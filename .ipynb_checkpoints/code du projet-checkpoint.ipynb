{
 "cells": [
  {
   "cell_type": "markdown",
   "id": "ea50e9c4",
   "metadata": {},
   "source": [
    "# Importation des bibliothèques"
   ]
  },
  {
   "cell_type": "code",
   "execution_count": null,
   "id": "ecfcb0e0",
   "metadata": {},
   "outputs": [],
   "source": [
    "import pandas as pd\n",
    "import matplotlib.pyplot as plt\n",
    "import missingno as msno\n",
    "import seaborn as sns\n",
    "from sklearn.impute import SimpleImputer\n",
    "from sklearn.experimental import enable_iterative_imputer\n",
    "from sklearn.impute import IterativeImputer\n",
    "from sklearn.linear_model import LogisticRegression\n",
    "from sklearn.preprocessing import OneHotEncoder"
   ]
  },
  {
   "cell_type": "markdown",
   "id": "0ab7a6db",
   "metadata": {},
   "source": [
    "# Lecture du dataset"
   ]
  },
  {
   "cell_type": "code",
   "execution_count": null,
   "id": "60b88884",
   "metadata": {},
   "outputs": [],
   "source": [
    "df = pd.read_csv('wandaloo_cars.csv')"
   ]
  },
  {
   "cell_type": "markdown",
   "id": "c84e2b90",
   "metadata": {},
   "source": [
    "# Data cleaning et data preprocessing"
   ]
  },
  {
   "cell_type": "markdown",
   "id": "62b58fdb",
   "metadata": {},
   "source": [
    "## Duplication"
   ]
  },
  {
   "cell_type": "code",
   "execution_count": null,
   "id": "66170498",
   "metadata": {},
   "outputs": [],
   "source": [
    "df.duplicated().any().any()"
   ]
  },
  {
   "cell_type": "code",
   "execution_count": null,
   "id": "7fbc6ffb",
   "metadata": {},
   "outputs": [],
   "source": [
    "df[df.duplicated()]"
   ]
  },
  {
   "cell_type": "code",
   "execution_count": null,
   "id": "ba49d13e",
   "metadata": {},
   "outputs": [],
   "source": [
    "df=df.drop_duplicates()"
   ]
  },
  {
   "cell_type": "code",
   "execution_count": null,
   "id": "fee2fe00",
   "metadata": {},
   "outputs": [],
   "source": [
    "df.duplicated().any().any()"
   ]
  },
  {
   "cell_type": "code",
   "execution_count": null,
   "id": "5dceed40",
   "metadata": {},
   "outputs": [],
   "source": [
    "df[df.duplicated()]"
   ]
  },
  {
   "cell_type": "markdown",
   "id": "bf0ef613",
   "metadata": {},
   "source": [
    "## Missing values"
   ]
  },
  {
   "cell_type": "code",
   "execution_count": null,
   "id": "73525004",
   "metadata": {},
   "outputs": [],
   "source": [
    "msno.matrix(df)\n",
    "plt.show()"
   ]
  },
  {
   "cell_type": "code",
   "execution_count": null,
   "id": "f6cff419",
   "metadata": {},
   "outputs": [],
   "source": [
    "cols_to_drop = ['Architecture', 'Cylindrée', 'Conso. ville', 'Conso. route', 'Vitesse maxi.', 'Volume du réservoir', 'Modèle' ]\n",
    "df = df.drop(cols_to_drop, axis=1)"
   ]
  },
  {
   "cell_type": "code",
   "execution_count": null,
   "id": "5c3595fc",
   "metadata": {},
   "outputs": [],
   "source": [
    "df.isnull().sum()"
   ]
  },
  {
   "cell_type": "code",
   "execution_count": null,
   "id": "a16099eb",
   "metadata": {},
   "outputs": [],
   "source": [
    "index_null = df[df['Price'].isnull()].index.tolist()\n",
    "index_null"
   ]
  },
  {
   "cell_type": "code",
   "execution_count": null,
   "id": "353355b8",
   "metadata": {},
   "outputs": [],
   "source": [
    "index_null = df[df['Brand'].isnull()].index.tolist()\n",
    "index_null"
   ]
  },
  {
   "cell_type": "code",
   "execution_count": null,
   "id": "e40554be",
   "metadata": {},
   "outputs": [],
   "source": [
    "index_null = df[df['Model'].isnull()].index.tolist()\n",
    "index_null"
   ]
  },
  {
   "cell_type": "code",
   "execution_count": null,
   "id": "ad9cfe05",
   "metadata": {},
   "outputs": [],
   "source": [
    "df = df.drop([48])"
   ]
  },
  {
   "cell_type": "code",
   "execution_count": null,
   "id": "f580bdc5",
   "metadata": {},
   "outputs": [],
   "source": [
    "index_null = df[df['Puissance fiscale'].isnull()].index.tolist()\n",
    "index_null"
   ]
  },
  {
   "cell_type": "code",
   "execution_count": null,
   "id": "7284a9eb",
   "metadata": {},
   "outputs": [],
   "source": [
    "df = df.drop([2509,\n",
    " 2943,\n",
    " 2944,\n",
    " 2945,\n",
    " 2947,\n",
    " 2948,\n",
    " 2986,\n",
    " 3023,\n",
    " 3040,\n",
    " 3041,\n",
    " 3042,\n",
    " 3043,\n",
    " 3044,\n",
    " 3045,\n",
    " 3114])"
   ]
  },
  {
   "cell_type": "code",
   "execution_count": null,
   "id": "8f2a6081",
   "metadata": {},
   "outputs": [],
   "source": [
    "df.isnull().sum() "
   ]
  },
  {
   "cell_type": "code",
   "execution_count": null,
   "id": "96375f29",
   "metadata": {},
   "outputs": [],
   "source": [
    "df['Version'].fillna(\"Version non connue\", inplace=True)"
   ]
  },
  {
   "cell_type": "code",
   "execution_count": null,
   "id": "cbc56814",
   "metadata": {},
   "outputs": [],
   "source": [
    "df['Price'] = df['Price'].str.strip(\"DH\")\n",
    "df['Price']"
   ]
  },
  {
   "cell_type": "code",
   "execution_count": null,
   "id": "6aca4f0a",
   "metadata": {},
   "outputs": [],
   "source": [
    "df[\"Price\"] = df[\"Price\"].replace(\"[^0-9\\.]\", \"\", regex=True)\n",
    "df['Price']"
   ]
  },
  {
   "cell_type": "code",
   "execution_count": null,
   "id": "a881d256",
   "metadata": {},
   "outputs": [],
   "source": [
    "df[\"Price\"] = df[\"Price\"].str.replace(\".\", \"\")\n",
    "df['Price']"
   ]
  },
  {
   "cell_type": "code",
   "execution_count": null,
   "id": "0eb1ab17",
   "metadata": {},
   "outputs": [],
   "source": [
    "df[\"Price\"] = df[\"Price\"].astype(float)"
   ]
  },
  {
   "cell_type": "code",
   "execution_count": null,
   "id": "8aa25ce9",
   "metadata": {},
   "outputs": [],
   "source": [
    "imputer = IterativeImputer(estimator=LogisticRegression())\n",
    "encoder = OneHotEncoder()\n",
    "data_encoded = encoder.fit_transform(df[['Main']])\n",
    "data_imputed = imputer.fit_transform(data_encoded.toarray())\n",
    "df['Main'] = data_imputed"
   ]
  },
  {
   "cell_type": "code",
   "execution_count": null,
   "id": "5a23b6e1",
   "metadata": {},
   "outputs": [],
   "source": [
    "df['Kilométrage']= df['Kilométrage'].str.strip('Km')\n",
    "df['Kilométrage']"
   ]
  },
  {
   "cell_type": "code",
   "execution_count": null,
   "id": "cbb70900",
   "metadata": {},
   "outputs": [],
   "source": [
    "df['Kilométrage']= df['Kilométrage'].str.strip('k')\n",
    "df['Kilométrage'].value_counts()"
   ]
  },
  {
   "cell_type": "code",
   "execution_count": null,
   "id": "99e849d1",
   "metadata": {},
   "outputs": [],
   "source": [
    "df['Kilométrage'].dtypes"
   ]
  },
  {
   "cell_type": "code",
   "execution_count": null,
   "id": "151e7d05",
   "metadata": {},
   "outputs": [],
   "source": [
    "df[\"Kilométrage\"] = df[\"Kilométrage\"].str.replace(\".\", \"\")\n",
    "df[\"Kilométrage\"]= df[\"Kilométrage\"].astype('float')\n",
    "df['Kilométrage']"
   ]
  },
  {
   "cell_type": "code",
   "execution_count": null,
   "id": "327d796d",
   "metadata": {},
   "outputs": [],
   "source": [
    "imputer = IterativeImputer(estimator=LogisticRegression())\n",
    "df['Kilométrage'] = imputer.fit_transform(df[['Kilométrage']])"
   ]
  },
  {
   "cell_type": "code",
   "execution_count": null,
   "id": "38325453",
   "metadata": {},
   "outputs": [],
   "source": [
    "df['Carburant'].fillna('Unknown', inplace=True)"
   ]
  },
  {
   "cell_type": "code",
   "execution_count": null,
   "id": "6596a01a",
   "metadata": {},
   "outputs": [],
   "source": [
    "sns.set(style=\"ticks\", font_scale=1.5, rc={\"figure.figsize\":(10, 30)})\n",
    "fig = plt.figure(figsize = (10,10))\n",
    "ax = fig.subplots()\n",
    "df.Carburant.value_counts().plot(ax=ax, kind='pie')\n",
    "ax.set_ylabel(\"\")\n",
    "ax.set_title(\"Distribution des voitures par type de Carburant\")\n",
    "plt.show()"
   ]
  },
  {
   "cell_type": "code",
   "execution_count": null,
   "id": "9e1b414d",
   "metadata": {},
   "outputs": [],
   "source": [
    "df['Transmision'].fillna('Unknown', inplace=True)"
   ]
  },
  {
   "cell_type": "code",
   "execution_count": null,
   "id": "fa7bdaf6",
   "metadata": {},
   "outputs": [],
   "source": [
    "df['Puissance fiscale'] = df['Puissance fiscale'].str.strip(\"cv\")\n",
    "df['Puissance fiscale'].value_counts()"
   ]
  },
  {
   "cell_type": "code",
   "execution_count": null,
   "id": "071e8e72",
   "metadata": {},
   "outputs": [],
   "source": [
    "df[\"Puissance fiscale\"] = df[\"Puissance fiscale\"].str.replace(\"-\", \"0\")"
   ]
  },
  {
   "cell_type": "code",
   "execution_count": null,
   "id": "a23a81c1",
   "metadata": {},
   "outputs": [],
   "source": [
    "index1 = df['Puissance fiscale'].index[df['Puissance fiscale'] == ''][0]"
   ]
  },
  {
   "cell_type": "code",
   "execution_count": null,
   "id": "21a1c7b7",
   "metadata": {},
   "outputs": [],
   "source": [
    "index1"
   ]
  },
  {
   "cell_type": "code",
   "execution_count": null,
   "id": "1b34424f",
   "metadata": {},
   "outputs": [],
   "source": [
    "df.at[2607, 'Puissance fiscale'] = '0'"
   ]
  },
  {
   "cell_type": "code",
   "execution_count": null,
   "id": "d3eadf78",
   "metadata": {},
   "outputs": [],
   "source": [
    "index2 = df['Puissance fiscale'].index[df['Puissance fiscale'] == ''][0]"
   ]
  },
  {
   "cell_type": "code",
   "execution_count": null,
   "id": "3bd479a2",
   "metadata": {},
   "outputs": [],
   "source": [
    "index2"
   ]
  },
  {
   "cell_type": "code",
   "execution_count": null,
   "id": "a43dfe0f",
   "metadata": {},
   "outputs": [],
   "source": [
    "df.at[2608, 'Puissance fiscale'] = '0'"
   ]
  },
  {
   "cell_type": "code",
   "execution_count": null,
   "id": "32c05a19",
   "metadata": {},
   "outputs": [],
   "source": [
    "df['Puissance fiscale'] = df['Puissance fiscale'].astype('float')"
   ]
  },
  {
   "cell_type": "code",
   "execution_count": null,
   "id": "a6b6f526",
   "metadata": {},
   "outputs": [],
   "source": [
    "df['Puissance fiscale'] = df['Puissance fiscale'].replace(0,df['Puissance fiscale'].mean())"
   ]
  },
  {
   "cell_type": "code",
   "execution_count": null,
   "id": "fb346a39",
   "metadata": {},
   "outputs": [],
   "source": [
    "df['Couleur extérieure'].fillna('Unknown', inplace=True)"
   ]
  },
  {
   "cell_type": "code",
   "execution_count": null,
   "id": "63e377d3",
   "metadata": {},
   "outputs": [],
   "source": [
    "#sns.set(style=\"ticks\", font_scale=1.5, rc={\"figure.figsize\":(200, 200)})\n",
    "plt.figure(figsize = (20, 15))\n",
    "sns.countplot(x=\"Couleur extérieure\", data=df,palette = 'viridis')\n",
    "#sns.countplot(df['Couleur extérieure'], palette = 'viridis')\n",
    "plt.title(\"Le nombre de voitures par couleurs\", fontsize = 20)\n",
    "plt.show()"
   ]
  },
  {
   "cell_type": "code",
   "execution_count": null,
   "id": "b04054df",
   "metadata": {},
   "outputs": [],
   "source": [
    "df['Etat du véhicule'].value_counts()"
   ]
  },
  {
   "cell_type": "code",
   "execution_count": null,
   "id": "7081fb06",
   "metadata": {},
   "outputs": [],
   "source": [
    "df['Etat du véhicule'] = df['Etat du véhicule'].replace('-','Unknown')\n",
    "df['Etat du véhicule'].fillna('Unknown', inplace=True)"
   ]
  },
  {
   "cell_type": "code",
   "execution_count": null,
   "id": "9c15cc6a",
   "metadata": {},
   "outputs": [],
   "source": [
    "plt.figure(figsize = (10, 10))\n",
    "sns.countplot(x = 'Etat du véhicule', data = df, palette = 'Set1')"
   ]
  },
  {
   "cell_type": "code",
   "execution_count": null,
   "id": "5e7ce6c9",
   "metadata": {},
   "outputs": [],
   "source": [
    "df['Climatisation'].value_counts()"
   ]
  },
  {
   "cell_type": "code",
   "execution_count": null,
   "id": "b0700e8d",
   "metadata": {},
   "outputs": [],
   "source": [
    "df['Climatisation'] = df['Climatisation'].replace('تلقاءي.','auto.') \n",
    "df['Climatisation'] = df['Climatisation'].replace('non','non connue')  "
   ]
  },
  {
   "cell_type": "code",
   "execution_count": null,
   "id": "b7c3fda4",
   "metadata": {},
   "outputs": [],
   "source": [
    "df['Climatisation'].value_counts()"
   ]
  },
  {
   "cell_type": "code",
   "execution_count": null,
   "id": "73a0305b",
   "metadata": {},
   "outputs": [],
   "source": [
    "df['Vitres électriques'].value_counts()"
   ]
  },
  {
   "cell_type": "code",
   "execution_count": null,
   "id": "a34d68be",
   "metadata": {},
   "outputs": [],
   "source": [
    "df['Vitres électriques'] = df['Vitres électriques'].replace('non','pas de vitres électriques')\n",
    "df['Vitres électriques'] = df['Vitres électriques'].replace('-','Unknown') "
   ]
  },
  {
   "cell_type": "code",
   "execution_count": null,
   "id": "f7d1ca53",
   "metadata": {},
   "outputs": [],
   "source": [
    "df['Vitres électriques'].value_counts()"
   ]
  },
  {
   "cell_type": "code",
   "execution_count": null,
   "id": "a3359cf1",
   "metadata": {},
   "outputs": [],
   "source": [
    "df['Sièges électriques'].value_counts()"
   ]
  },
  {
   "cell_type": "code",
   "execution_count": null,
   "id": "a6c65a37",
   "metadata": {},
   "outputs": [],
   "source": [
    "df['Sièges électriques'].fillna('Unknown', inplace=True)\n",
    "df['Sièges électriques'] = df['Vitres électriques'].replace('non','pas de sièges')"
   ]
  },
  {
   "cell_type": "code",
   "execution_count": null,
   "id": "a22dae5e",
   "metadata": {},
   "outputs": [],
   "source": [
    "df['Sièges électriques'].value_counts()"
   ]
  },
  {
   "cell_type": "code",
   "execution_count": null,
   "id": "4769f711",
   "metadata": {},
   "outputs": [],
   "source": [
    "df['Ordinateur de bord'].value_counts()"
   ]
  },
  {
   "cell_type": "code",
   "execution_count": null,
   "id": "164df243",
   "metadata": {},
   "outputs": [],
   "source": [
    "df[\"Ordinateur de bord\"] = df[\"Ordinateur de bord\"].map({\"oui\": 1, \"non\": 0})"
   ]
  },
  {
   "cell_type": "code",
   "execution_count": null,
   "id": "19bfd9fb",
   "metadata": {},
   "outputs": [],
   "source": [
    "df['Start & Stop'].value_counts()"
   ]
  },
  {
   "cell_type": "code",
   "execution_count": null,
   "id": "3e085665",
   "metadata": {},
   "outputs": [],
   "source": [
    "df[\"Start & Stop\"] = df[\"Start & Stop\"].map({\"oui\": 1, \"non\": 0})"
   ]
  },
  {
   "cell_type": "code",
   "execution_count": null,
   "id": "12ae9862",
   "metadata": {},
   "outputs": [],
   "source": [
    "df['Régulateur de vitesse'].value_counts()"
   ]
  },
  {
   "cell_type": "code",
   "execution_count": null,
   "id": "8c200a02",
   "metadata": {},
   "outputs": [],
   "source": [
    "df[\"Régulateur de vitesse\"] = df[\"Régulateur de vitesse\"].map({\"oui\": 1, \"non\": 0})"
   ]
  },
  {
   "cell_type": "code",
   "execution_count": null,
   "id": "075cfcfb",
   "metadata": {},
   "outputs": [],
   "source": [
    "df['Allumage auto. des feux'].value_counts()"
   ]
  },
  {
   "cell_type": "code",
   "execution_count": null,
   "id": "5fc0f083",
   "metadata": {},
   "outputs": [],
   "source": [
    "df[\"Allumage auto. des feux\"] = df[\"Allumage auto. des feux\"].map({\"oui\": 1, \"non\": 0})"
   ]
  },
  {
   "cell_type": "code",
   "execution_count": null,
   "id": "221d466b",
   "metadata": {},
   "outputs": [],
   "source": [
    "df['Détecteur de pluie'].value_counts()"
   ]
  },
  {
   "cell_type": "code",
   "execution_count": null,
   "id": "dad81157",
   "metadata": {},
   "outputs": [],
   "source": [
    "df[\"Détecteur de pluie\"] = df[\"Détecteur de pluie\"].map({\"oui\": 1, \"non\": 0})"
   ]
  },
  {
   "cell_type": "code",
   "execution_count": null,
   "id": "c89b8d4e",
   "metadata": {},
   "outputs": [],
   "source": [
    "df['Commandes au volant'].value_counts()"
   ]
  },
  {
   "cell_type": "code",
   "execution_count": null,
   "id": "2ab4a896",
   "metadata": {},
   "outputs": [],
   "source": [
    "df[\"Commandes au volant\"] = df[\"Commandes au volant\"].map({\"oui\": 1, \"non\": 0})"
   ]
  },
  {
   "cell_type": "code",
   "execution_count": null,
   "id": "88999381",
   "metadata": {},
   "outputs": [],
   "source": [
    "df['Ecran tactile'].value_counts()"
   ]
  },
  {
   "cell_type": "code",
   "execution_count": null,
   "id": "13359877",
   "metadata": {},
   "outputs": [],
   "source": [
    "df[\"Ecran tactile\"] = df[\"Ecran tactile\"].map({\"oui\": 1, \"non\": 0})"
   ]
  },
  {
   "cell_type": "code",
   "execution_count": null,
   "id": "8e1ff517",
   "metadata": {},
   "outputs": [],
   "source": [
    "df['Rétroviseurs électriques'].value_counts()"
   ]
  },
  {
   "cell_type": "code",
   "execution_count": null,
   "id": "43fbc0ae",
   "metadata": {},
   "outputs": [],
   "source": [
    "df[\"Rétroviseurs électriques\"] = df[\"Rétroviseurs électriques\"].map({\"oui\": 1, \"non\": 0})"
   ]
  },
  {
   "cell_type": "code",
   "execution_count": null,
   "id": "08262e7b",
   "metadata": {},
   "outputs": [],
   "source": [
    "mode_imputer = SimpleImputer(strategy='most_frequent')\n",
    "data_imputed = mode_imputer.fit_transform(df[['Ouverture auto. du coffre']])\n",
    "df['Ouverture auto. du coffre'] = data_imputed"
   ]
  },
  {
   "cell_type": "code",
   "execution_count": null,
   "id": "cb5297ed",
   "metadata": {},
   "outputs": [],
   "source": [
    "df['Ouverture auto. du coffre'].value_counts()"
   ]
  },
  {
   "cell_type": "code",
   "execution_count": null,
   "id": "eefc2a64",
   "metadata": {},
   "outputs": [],
   "source": [
    "df[\"Ouverture auto. du coffre\"] = df[\"Ouverture auto. du coffre\"].map({\"oui\": 1, \"non\": 0})"
   ]
  },
  {
   "cell_type": "code",
   "execution_count": null,
   "id": "a3da93d7",
   "metadata": {},
   "outputs": [],
   "source": [
    "df['Démarrage mains libres'].value_counts()"
   ]
  },
  {
   "cell_type": "code",
   "execution_count": null,
   "id": "4c4a1322",
   "metadata": {},
   "outputs": [],
   "source": [
    "df[\"Démarrage mains libres\"] = df[\"Démarrage mains libres\"].map({\"oui\": 1, \"non\": 0})"
   ]
  },
  {
   "cell_type": "code",
   "execution_count": null,
   "id": "0b86f6b1",
   "metadata": {},
   "outputs": [],
   "source": [
    "df['Banquette arrière rabattable 1/3-2/3'].value_counts()"
   ]
  },
  {
   "cell_type": "code",
   "execution_count": null,
   "id": "eaa0b965",
   "metadata": {},
   "outputs": [],
   "source": [
    "df[\"Banquette arrière rabattable 1/3-2/3\"] = df[\"Banquette arrière rabattable 1/3-2/3\"].map({\"oui\": 1, \"non\": 0})"
   ]
  },
  {
   "cell_type": "code",
   "execution_count": null,
   "id": "7e6b8c9d",
   "metadata": {},
   "outputs": [],
   "source": [
    "df['Caméra de recul'].value_counts()"
   ]
  },
  {
   "cell_type": "code",
   "execution_count": null,
   "id": "b4d07dc4",
   "metadata": {},
   "outputs": [],
   "source": [
    "df[\"Caméra de recul\"] = df[\"Caméra de recul\"].map({\"oui\": 1, \"non\": 0})"
   ]
  },
  {
   "cell_type": "code",
   "execution_count": null,
   "id": "7b2c3969",
   "metadata": {},
   "outputs": [],
   "source": [
    "df['Bluetooth'].value_counts()"
   ]
  },
  {
   "cell_type": "code",
   "execution_count": null,
   "id": "b262198b",
   "metadata": {},
   "outputs": [],
   "source": [
    "df[\"Bluetooth\"] = df[\"Bluetooth\"].map({\"oui\": 1, \"non\": 0})"
   ]
  },
  {
   "cell_type": "code",
   "execution_count": null,
   "id": "80c77756",
   "metadata": {},
   "outputs": [],
   "source": [
    "df['Jantes aluminium'].value_counts()"
   ]
  },
  {
   "cell_type": "code",
   "execution_count": null,
   "id": "339b43d5",
   "metadata": {},
   "outputs": [],
   "source": [
    "df[\"Jantes aluminium\"] = df[\"Jantes aluminium\"].str.replace(\"18 pouces\", \"oui\")\n",
    "df[\"Jantes aluminium\"] = df[\"Jantes aluminium\"].str.replace(\"17 pouces\", \"oui\")\n",
    "df[\"Jantes aluminium\"] = df[\"Jantes aluminium\"].str.replace(\"19 pouces\", \"oui\")\n",
    "df[\"Jantes aluminium\"] = df[\"Jantes aluminium\"].str.replace(\"16 pouces\", \"oui\")\n",
    "df[\"Jantes aluminium\"] = df[\"Jantes aluminium\"].str.replace(\"20 pouces\", \"oui\")\n",
    "df[\"Jantes aluminium\"] = df[\"Jantes aluminium\"].str.replace(\"21 pouces\", \"oui\")\n",
    "df[\"Jantes aluminium\"] = df[\"Jantes aluminium\"].str.replace(\"15 pouces\", \"oui\")\n",
    "df[\"Jantes aluminium\"] = df[\"Jantes aluminium\"].str.replace(\"14 pouces\", \"oui\")\n",
    "df[\"Jantes aluminium\"] = df[\"Jantes aluminium\"].str.replace(\"22 pouces\", \"oui\")"
   ]
  },
  {
   "cell_type": "code",
   "execution_count": null,
   "id": "df021764",
   "metadata": {},
   "outputs": [],
   "source": [
    "df['Jantes aluminium'].value_counts()"
   ]
  },
  {
   "cell_type": "code",
   "execution_count": null,
   "id": "c987f320",
   "metadata": {},
   "outputs": [],
   "source": [
    "df[\"Jantes aluminium\"] = df[\"Jantes aluminium\"].map({\"oui\": 1, \"non\": 0})"
   ]
  },
  {
   "cell_type": "code",
   "execution_count": null,
   "id": "8efad18a",
   "metadata": {},
   "outputs": [],
   "source": [
    "df['Volant cuir'].value_counts()"
   ]
  },
  {
   "cell_type": "code",
   "execution_count": null,
   "id": "f68e445f",
   "metadata": {},
   "outputs": [],
   "source": [
    "df[\"Volant cuir\"] = df[\"Volant cuir\"].map({\"oui\": 1, \"non\": 0})"
   ]
  },
  {
   "cell_type": "code",
   "execution_count": null,
   "id": "c47d6c2a",
   "metadata": {},
   "outputs": [],
   "source": [
    "df['Feux de jour'].value_counts()"
   ]
  },
  {
   "cell_type": "code",
   "execution_count": null,
   "id": "0bc63243",
   "metadata": {},
   "outputs": [],
   "source": [
    "df[\"Feux de jour\"] = df[\"Feux de jour\"].map({\"oui\": 1, \"non\": 0})"
   ]
  },
  {
   "cell_type": "code",
   "execution_count": null,
   "id": "62036413",
   "metadata": {},
   "outputs": [],
   "source": [
    "df['Barres de toit'].value_counts()"
   ]
  },
  {
   "cell_type": "code",
   "execution_count": null,
   "id": "f22ef472",
   "metadata": {},
   "outputs": [],
   "source": [
    "df[\"Barres de toit\"] = df[\"Barres de toit\"].map({\"oui\": 1, \"non\": 0})"
   ]
  },
  {
   "cell_type": "code",
   "execution_count": null,
   "id": "5aa3088c",
   "metadata": {},
   "outputs": [],
   "source": [
    "df['Toit'].value_counts()"
   ]
  },
  {
   "cell_type": "code",
   "execution_count": null,
   "id": "2d24e287",
   "metadata": {},
   "outputs": [],
   "source": [
    "df['Airbags'].value_counts()"
   ]
  },
  {
   "cell_type": "code",
   "execution_count": null,
   "id": "f687a391",
   "metadata": {},
   "outputs": [],
   "source": [
    "df[\"Airbags\"] = df[\"Airbags\"].map({\"oui\": 1, \"non\": 0,\"6.0\": 1, \"8.0\": 1,\"7.0\": 1, \"2.0\": 1,\"4.0\": 1, \"9.0\": 1,\"10.0\": 1, \"1.0\": 1, \"0.0\": 0})"
   ]
  },
  {
   "cell_type": "code",
   "execution_count": null,
   "id": "5e904121",
   "metadata": {},
   "outputs": [],
   "source": [
    "df['ABS'].value_counts()"
   ]
  },
  {
   "cell_type": "code",
   "execution_count": null,
   "id": "aa57dccf",
   "metadata": {},
   "outputs": [],
   "source": [
    "df[\"ABS\"] = df[\"ABS\"].map({\"oui\": 1, \"non\": 0})"
   ]
  },
  {
   "cell_type": "code",
   "execution_count": null,
   "id": "9a2c58c6",
   "metadata": {},
   "outputs": [],
   "source": [
    "df['ESP'].value_counts()"
   ]
  },
  {
   "cell_type": "code",
   "execution_count": null,
   "id": "0624acf7",
   "metadata": {},
   "outputs": [],
   "source": [
    "df[\"ESP\"] = df[\"ESP\"].map({\"oui\": 1, \"non\": 0})"
   ]
  },
  {
   "cell_type": "code",
   "execution_count": null,
   "id": "b58ec60c",
   "metadata": {},
   "outputs": [],
   "source": [
    "df['Antipatinage'].value_counts()"
   ]
  },
  {
   "cell_type": "code",
   "execution_count": null,
   "id": "9f61371b",
   "metadata": {},
   "outputs": [],
   "source": [
    "df[\"Antipatinage\"] = df[\"Antipatinage\"].map({\"oui\": 1, \"non\": 0})"
   ]
  },
  {
   "cell_type": "code",
   "execution_count": null,
   "id": "f76ebf7e",
   "metadata": {},
   "outputs": [],
   "source": [
    "df.isnull().sum()"
   ]
  },
  {
   "cell_type": "code",
   "execution_count": null,
   "id": "585ebf3d",
   "metadata": {},
   "outputs": [],
   "source": [
    "df"
   ]
  },
  {
   "cell_type": "code",
   "execution_count": null,
   "id": "42baef32",
   "metadata": {},
   "outputs": [],
   "source": [
    "msno.matrix(df)\n",
    "plt.show()"
   ]
  },
  {
   "cell_type": "markdown",
   "id": "bb1bbcaf",
   "metadata": {},
   "source": [
    "# Visualisation"
   ]
  },
  {
   "cell_type": "code",
   "execution_count": null,
   "id": "925f5efa",
   "metadata": {},
   "outputs": [],
   "source": [
    "correlation_matrix = df.corr()"
   ]
  },
  {
   "cell_type": "code",
   "execution_count": null,
   "id": "0c7bb7b9",
   "metadata": {},
   "outputs": [],
   "source": [
    "plt.figure(figsize = (35, 35))\n",
    "sns.heatmap(correlation_matrix, annot=True)\n",
    "plt.title('Matrice de corrélation', fontsize = 30)"
   ]
  },
  {
   "cell_type": "code",
   "execution_count": null,
   "id": "d1fd626c",
   "metadata": {},
   "outputs": [],
   "source": [
    "df_sample = df.sample(n=1000)"
   ]
  },
  {
   "cell_type": "code",
   "execution_count": null,
   "id": "d1788498",
   "metadata": {},
   "outputs": [],
   "source": [
    "sns.set(style=\"ticks\", font_scale=1.5, rc={\"figure.figsize\":(40, 20)})\n",
    "sns.boxplot(x=\"Brand\", y=\"Price\", data=df_sample)\n",
    "plt.title('Le prix en fonction de la marque de la voiture', fontsize = 70)"
   ]
  },
  {
   "cell_type": "code",
   "execution_count": null,
   "id": "18ecd29e",
   "metadata": {},
   "outputs": [],
   "source": [
    "sns.histplot(df_sample, x='Price', bins=15)\n",
    "plt.title('Les prix du marché', fontsize = 70)"
   ]
  },
  {
   "cell_type": "code",
   "execution_count": null,
   "id": "24cc6bb8",
   "metadata": {},
   "outputs": [],
   "source": [
    "plt.figure(figsize=(10,8)) \n",
    "sns.scatterplot(data=df_sample, x='Puissance fiscale', y='Price',hue='Transmision',palette='viridis',alpha=.89 , s=120 ); \n",
    "plt.xticks(fontsize=13); \n",
    "plt.yticks(fontsize=13) \n",
    "plt.xlabel('power',fontsize=14) \n",
    "plt.ylabel('price',fontsize=14) \n",
    "plt.title('Relation entre la puissance fiscale et le prix',fontsize=20);"
   ]
  },
  {
   "cell_type": "code",
   "execution_count": null,
   "id": "6610a39f",
   "metadata": {},
   "outputs": [],
   "source": [
    "plt.figure(figsize=(16,7)) \n",
    "sns.countplot(data=df_sample, y='Brand',alpha=.6,color='blue') \n",
    "plt.title('Voitures par type de marque',fontsize =20) \n",
    "plt.xticks(fontsize=14) \n",
    "plt.yticks(fontsize=14) \n",
    "plt.xlabel('') \n",
    "plt.ylabel('');"
   ]
  },
  {
   "cell_type": "code",
   "execution_count": null,
   "id": "afa6095b",
   "metadata": {},
   "outputs": [],
   "source": [
    "sns.set(style=\"ticks\", font_scale=1.5, rc={\"figure.figsize\":(40, 20)})\n",
    "sns.lmplot(data=df_sample , x=\"Kilométrage\",y=\"Price\",fit_reg=False,hue=\"Carburant\",aspect=1)"
   ]
  },
  {
   "cell_type": "code",
   "execution_count": null,
   "id": "1a0f89aa",
   "metadata": {},
   "outputs": [],
   "source": [
    "sns.set(style=\"ticks\", font_scale=1.5, rc={\"figure.figsize\":(10, 20)})\n",
    "plt.scatter(df['Jantes aluminium'], df['Price'])\n",
    "plt.xlabel('Jantes aluminium')\n",
    "plt.ylabel('Price')\n",
    "plt.title('Le prix en fonction de Jantes aluminium ')"
   ]
  },
  {
   "cell_type": "code",
   "execution_count": null,
   "id": "3eb4fec3",
   "metadata": {},
   "outputs": [],
   "source": [
    "df.dtypes"
   ]
  },
  {
   "cell_type": "code",
   "execution_count": null,
   "id": "6c56606b",
   "metadata": {},
   "outputs": [],
   "source": [
    "df = pd.get_dummies(df, columns=['Brand', 'Model', 'Version','Carburant','Transmision', 'Climatisation','Vitres électriques','Sièges électriques', 'Toit','Couleur extérieure', 'Etat du véhicule'])\n"
   ]
  },
  {
   "cell_type": "markdown",
   "id": "7318594b",
   "metadata": {},
   "source": [
    "# Modèles de prédiction des prix"
   ]
  },
  {
   "cell_type": "markdown",
   "id": "ce21805d",
   "metadata": {},
   "source": [
    "## Sur toute la dataset"
   ]
  },
  {
   "cell_type": "code",
   "execution_count": null,
   "id": "e4d1a095",
   "metadata": {},
   "outputs": [],
   "source": [
    "y = df['Price']\n",
    "X = df.drop(['Price'], axis=1)"
   ]
  },
  {
   "cell_type": "code",
   "execution_count": null,
   "id": "96166808",
   "metadata": {},
   "outputs": [],
   "source": [
    "from sklearn.model_selection import train_test_split"
   ]
  },
  {
   "cell_type": "code",
   "execution_count": null,
   "id": "c8c12c3c",
   "metadata": {},
   "outputs": [],
   "source": [
    "X_train , X_test , Y_train , Y_test = train_test_split(X , y , test_size = 0.40,random_state =2)"
   ]
  },
  {
   "cell_type": "code",
   "execution_count": null,
   "id": "9629a45c",
   "metadata": {},
   "outputs": [],
   "source": [
    "from sklearn import linear_model\n",
    "from sklearn.metrics import r2_score\n",
    "import numpy as np\n",
    "from sklearn.model_selection import cross_val_score\n",
    "\n",
    "regr = linear_model.LinearRegression()\n",
    "regr.fit(X_train, Y_train)\n",
    "\n",
    "predicted = regr.predict(X_test)\n",
    "residual = Y_test - predicted\n",
    "\n",
    "fig = plt.figure(figsize=(30,30))\n",
    "ax1 = plt.subplot(211)\n",
    "sns.distplot(residual, color ='teal')\n",
    "plt.tick_params(axis='both', which='major', labelsize=20)\n",
    "plt.title('Residual counts',fontsize=35)\n",
    "plt.xlabel('Residual',fontsize=25)\n",
    "plt.ylabel('Count',fontsize=25)\n",
    "\n",
    "ax2 = plt.subplot(212)\n",
    "plt.scatter(predicted, residual, color ='teal')\n",
    "plt.tick_params(axis='both', which='major', labelsize=20)\n",
    "plt.xlabel('Predicted',fontsize=25)\n",
    "plt.ylabel('Residual',fontsize=25)\n",
    "plt.axhline(y=0)\n",
    "plt.title('Residual vs. Predicted',fontsize=35)\n",
    "\n",
    "plt.show()\n",
    "\n",
    "from sklearn.metrics import mean_squared_error\n",
    "rmse = np.sqrt(mean_squared_error(Y_test, predicted))\n",
    "scores = cross_val_score(regr, X, y, cv=12)\n",
    "\n",
    "print('RMSE: ',rmse)\n",
    "print('\\nMean Score:')\n",
    "print(scores.mean())\n",
    "print('Variance score: %.2f' % r2_score(Y_test, predicted))"
   ]
  },
  {
   "cell_type": "code",
   "execution_count": null,
   "id": "9884bb32",
   "metadata": {},
   "outputs": [],
   "source": [
    "import pandas as pd\n",
    "from sklearn.tree import DecisionTreeRegressor\n",
    "from sklearn.model_selection import train_test_split\n",
    "from sklearn.metrics import mean_absolute_error\n",
    "from sklearn.metrics import r2_score\n",
    "\n",
    "model = DecisionTreeRegressor(max_depth=5)\n",
    "model.fit(X_train, Y_train)\n",
    "\n",
    "y_pred = model.predict(X_test)\n",
    "mae = mean_absolute_error(Y_test, y_pred)\n",
    "print(\"Erreur moyenne absolue :\", mae)\n",
    "print('Variance score: %.2f' % r2_score(Y_test, predicted))"
   ]
  },
  {
   "cell_type": "code",
   "execution_count": null,
   "id": "fbe456dd",
   "metadata": {},
   "outputs": [],
   "source": [
    "df"
   ]
  },
  {
   "cell_type": "code",
   "execution_count": null,
   "id": "3be9f530",
   "metadata": {},
   "outputs": [],
   "source": [
    "data= df[['Price','Puissance fiscale', 'Start & Stop','Allumage auto. des feux', 'Détecteur de pluie', 'Ecran tactile', 'Démarrage mains libres','Caméra de recul','Volant cuir','Feux de jour']]"
   ]
  },
  {
   "cell_type": "code",
   "execution_count": null,
   "id": "96640408",
   "metadata": {},
   "outputs": [],
   "source": [
    "data"
   ]
  },
  {
   "cell_type": "markdown",
   "id": "20917ad4",
   "metadata": {},
   "source": [
    "## Avec features selection"
   ]
  },
  {
   "cell_type": "code",
   "execution_count": null,
   "id": "7622452a",
   "metadata": {},
   "outputs": [],
   "source": [
    "y = data['Price']\n",
    "X = data.drop(['Price'], axis=1)"
   ]
  },
  {
   "cell_type": "code",
   "execution_count": null,
   "id": "1366236d",
   "metadata": {},
   "outputs": [],
   "source": [
    "from sklearn.model_selection import train_test_split"
   ]
  },
  {
   "cell_type": "code",
   "execution_count": null,
   "id": "35898a4a",
   "metadata": {},
   "outputs": [],
   "source": [
    "X_train , X_test , Y_train , Y_test = train_test_split(X , y , test_size = 0.40,random_state =2)"
   ]
  },
  {
   "cell_type": "code",
   "execution_count": null,
   "id": "c4b9d11c",
   "metadata": {},
   "outputs": [],
   "source": [
    "from sklearn import linear_model\n",
    "from sklearn.metrics import r2_score\n",
    "import numpy as np\n",
    "from sklearn.model_selection import cross_val_score\n",
    "\n",
    "regr = linear_model.LinearRegression()\n",
    "regr.fit(X_train, Y_train)\n",
    "\n",
    "predicted = regr.predict(X_test)\n",
    "residual = Y_test - predicted\n",
    "\n",
    "fig = plt.figure(figsize=(30,30))\n",
    "ax1 = plt.subplot(211)\n",
    "sns.distplot(residual, color ='teal')\n",
    "plt.tick_params(axis='both', which='major', labelsize=20)\n",
    "plt.title('Residual counts',fontsize=35)\n",
    "plt.xlabel('Residual',fontsize=25)\n",
    "plt.ylabel('Count',fontsize=25)\n",
    "\n",
    "ax2 = plt.subplot(212)\n",
    "plt.scatter(predicted, residual, color ='teal')\n",
    "plt.tick_params(axis='both', which='major', labelsize=20)\n",
    "plt.xlabel('Predicted',fontsize=25)\n",
    "plt.ylabel('Residual',fontsize=25)\n",
    "plt.axhline(y=0)\n",
    "plt.title('Residual vs. Predicted',fontsize=35)\n",
    "\n",
    "plt.show()\n",
    "\n",
    "from sklearn.metrics import mean_squared_error\n",
    "rmse = np.sqrt(mean_squared_error(Y_test, predicted))\n",
    "scores = cross_val_score(regr, X, y, cv=12)\n",
    "\n",
    "\n",
    "print('RMSE: ',rmse)\n",
    "print('\\nMean Score:')\n",
    "print(scores.mean())\n",
    "print('Variance score: %.2f' % r2_score(Y_test, predicted))\n"
   ]
  },
  {
   "cell_type": "code",
   "execution_count": null,
   "id": "ae240ee8",
   "metadata": {},
   "outputs": [],
   "source": [
    "import pandas as pd\n",
    "from sklearn.tree import DecisionTreeRegressor\n",
    "from sklearn.model_selection import train_test_split\n",
    "from sklearn.metrics import mean_absolute_error\n",
    "from sklearn.metrics import r2_score\n",
    "\n",
    "model = DecisionTreeRegressor(max_depth=5)\n",
    "model.fit(X_train, Y_train)\n",
    "\n",
    "y_pred = model.predict(X_test)\n",
    "mae = mean_absolute_error(Y_test, y_pred)\n",
    "print(\"Erreur moyenne absolue :\", mae)\n",
    "print('Variance score: %.2f' % r2_score(Y_test, predicted))"
   ]
  },
  {
   "cell_type": "markdown",
   "id": "dd785a1c",
   "metadata": {},
   "source": [
    "# Amélioration de performances:"
   ]
  },
  {
   "cell_type": "code",
   "execution_count": null,
   "id": "da7d3c4f",
   "metadata": {},
   "outputs": [],
   "source": [
    "data_frame= pd.read_csv('wandaloo_cars.csv')"
   ]
  },
  {
   "cell_type": "code",
   "execution_count": null,
   "id": "9764496f",
   "metadata": {},
   "outputs": [],
   "source": [
    "data_frame.duplicated().any().any()"
   ]
  },
  {
   "cell_type": "code",
   "execution_count": null,
   "id": "b6707708",
   "metadata": {},
   "outputs": [],
   "source": [
    "data_frame=data_frame.drop_duplicates()"
   ]
  },
  {
   "cell_type": "code",
   "execution_count": null,
   "id": "97535a9b",
   "metadata": {},
   "outputs": [],
   "source": [
    "data_frame.duplicated().any().any()"
   ]
  },
  {
   "cell_type": "code",
   "execution_count": null,
   "id": "cad2437d",
   "metadata": {},
   "outputs": [],
   "source": [
    "msno.matrix(data_frame)\n",
    "plt.show()"
   ]
  },
  {
   "cell_type": "code",
   "execution_count": null,
   "id": "8c8b9a30",
   "metadata": {},
   "outputs": [],
   "source": [
    "cols_to_drop = ['Architecture', 'Cylindrée', 'Conso. ville', 'Conso. route', 'Vitesse maxi.', 'Volume du réservoir', 'Modèle', 'Version','Modèle','Main','Carburant','Transmision','Couleur extérieure','Etat du véhicule','Ouverture auto. du coffre','Kilométrage','Sièges électriques','Vitres électriques']\n",
    "data_frame = data_frame.drop(cols_to_drop, axis=1)"
   ]
  },
  {
   "cell_type": "code",
   "execution_count": null,
   "id": "90ecf81c",
   "metadata": {},
   "outputs": [],
   "source": [
    "msno.matrix(data_frame)\n",
    "plt.show()"
   ]
  },
  {
   "cell_type": "code",
   "execution_count": null,
   "id": "9248822f",
   "metadata": {},
   "outputs": [],
   "source": [
    "index_null = data_frame[data_frame['Puissance fiscale'].isnull()].index.tolist()\n",
    "index_null"
   ]
  },
  {
   "cell_type": "code",
   "execution_count": null,
   "id": "d22550b6",
   "metadata": {},
   "outputs": [],
   "source": [
    "data_frame = data_frame.drop([48,\n",
    " 2509,\n",
    " 2943,\n",
    " 2944,\n",
    " 2945,\n",
    " 2947,\n",
    " 2948,\n",
    " 2986,\n",
    " 3023,\n",
    " 3040,\n",
    " 3041,\n",
    " 3042,\n",
    " 3043,\n",
    " 3044,\n",
    " 3045,\n",
    " 3114])"
   ]
  },
  {
   "cell_type": "code",
   "execution_count": null,
   "id": "8e84545c",
   "metadata": {},
   "outputs": [],
   "source": [
    "data_frame.isnull().sum()"
   ]
  },
  {
   "cell_type": "code",
   "execution_count": null,
   "id": "48d70d64",
   "metadata": {},
   "outputs": [],
   "source": [
    "data_frame['Price'] = data_frame['Price'].str.strip(\"DH\")\n",
    "data_frame[\"Price\"] = data_frame[\"Price\"].replace(\"[^0-9\\.]\", \"\", regex=True)\n",
    "data_frame[\"Price\"] = data_frame[\"Price\"].str.replace(\".\", \"\")\n",
    "data_frame[\"Price\"] = data_frame[\"Price\"].astype(float)\n"
   ]
  },
  {
   "cell_type": "code",
   "execution_count": null,
   "id": "462361c1",
   "metadata": {},
   "outputs": [],
   "source": [
    "data_frame['Puissance fiscale'] = data_frame['Puissance fiscale'].str.strip(\"cv\")\n",
    "data_frame['Puissance fiscale'].value_counts()\n"
   ]
  },
  {
   "cell_type": "code",
   "execution_count": null,
   "id": "f4b56b69",
   "metadata": {},
   "outputs": [],
   "source": [
    "data_frame[\"Puissance fiscale\"] = data_frame[\"Puissance fiscale\"].str.replace(\"-\", \"0\")"
   ]
  },
  {
   "cell_type": "code",
   "execution_count": null,
   "id": "3374739f",
   "metadata": {},
   "outputs": [],
   "source": [
    "index1 = data_frame['Puissance fiscale'].index[data_frame['Puissance fiscale'] == ''][0]"
   ]
  },
  {
   "cell_type": "code",
   "execution_count": null,
   "id": "c05591cd",
   "metadata": {},
   "outputs": [],
   "source": [
    "index1"
   ]
  },
  {
   "cell_type": "code",
   "execution_count": null,
   "id": "07613047",
   "metadata": {},
   "outputs": [],
   "source": [
    "data_frame.at[2607, 'Puissance fiscale'] = '0'"
   ]
  },
  {
   "cell_type": "code",
   "execution_count": null,
   "id": "b54b649d",
   "metadata": {},
   "outputs": [],
   "source": [
    "index2 = data_frame['Puissance fiscale'].index[data_frame['Puissance fiscale'] == ''][0]"
   ]
  },
  {
   "cell_type": "code",
   "execution_count": null,
   "id": "01b7d9c4",
   "metadata": {},
   "outputs": [],
   "source": [
    "index2"
   ]
  },
  {
   "cell_type": "code",
   "execution_count": null,
   "id": "02a2bb21",
   "metadata": {},
   "outputs": [],
   "source": [
    "data_frame.at[2608, 'Puissance fiscale'] = '0'"
   ]
  },
  {
   "cell_type": "code",
   "execution_count": null,
   "id": "8445ca00",
   "metadata": {},
   "outputs": [],
   "source": [
    "data_frame['Puissance fiscale'] = data_frame['Puissance fiscale'].astype('float')"
   ]
  },
  {
   "cell_type": "code",
   "execution_count": null,
   "id": "6b3faeb1",
   "metadata": {},
   "outputs": [],
   "source": [
    "data_frame['Puissance fiscale'] = data_frame['Puissance fiscale'].replace(0,df['Puissance fiscale'].mean())"
   ]
  },
  {
   "cell_type": "code",
   "execution_count": null,
   "id": "cf168a72",
   "metadata": {},
   "outputs": [],
   "source": [
    "data_frame['Climatisation'].value_counts()"
   ]
  },
  {
   "cell_type": "code",
   "execution_count": null,
   "id": "54292ea3",
   "metadata": {},
   "outputs": [],
   "source": [
    "data_frame['Climatisation'] = data_frame['Climatisation'].replace('تلقاءي.','auto.') \n",
    "data_frame['Climatisation'] = data_frame['Climatisation'].replace('non','non connue')  "
   ]
  },
  {
   "cell_type": "markdown",
   "id": "ac3eb5f6",
   "metadata": {},
   "source": [
    "# Prediction"
   ]
  },
  {
   "cell_type": "code",
   "execution_count": null,
   "id": "dd8871a0",
   "metadata": {},
   "outputs": [],
   "source": [
    "data_frame.dtypes"
   ]
  },
  {
   "cell_type": "code",
   "execution_count": null,
   "id": "e362b40a",
   "metadata": {},
   "outputs": [],
   "source": [
    "data_frame_new= pd.get_dummies(data_frame)"
   ]
  },
  {
   "cell_type": "code",
   "execution_count": null,
   "id": "acb3efc9",
   "metadata": {},
   "outputs": [],
   "source": [
    "y = data_frame_new['Price']\n",
    "X = data_frame_new.drop(['Price'], axis=1)"
   ]
  },
  {
   "cell_type": "code",
   "execution_count": null,
   "id": "51546a4c",
   "metadata": {},
   "outputs": [],
   "source": [
    "from sklearn.model_selection import train_test_split"
   ]
  },
  {
   "cell_type": "code",
   "execution_count": null,
   "id": "cbe97836",
   "metadata": {},
   "outputs": [],
   "source": [
    "X_train , X_test , Y_train , Y_test = train_test_split(X , y , test_size = 0.40,random_state =2)"
   ]
  },
  {
   "cell_type": "code",
   "execution_count": null,
   "id": "b8926a58",
   "metadata": {},
   "outputs": [],
   "source": [
    "from sklearn import linear_model\n",
    "from sklearn.metrics import r2_score\n",
    "import numpy as np\n",
    "from sklearn.model_selection import cross_val_score\n",
    "\n",
    "regr = linear_model.LinearRegression()\n",
    "regr.fit(X_train, Y_train)\n",
    "\n",
    "predicted = regr.predict(X_test)\n",
    "residual = Y_test - predicted\n",
    "\n",
    "fig = plt.figure(figsize=(30,30))\n",
    "ax1 = plt.subplot(211)\n",
    "sns.distplot(residual, color ='teal')\n",
    "plt.tick_params(axis='both', which='major', labelsize=20)\n",
    "plt.title('Residual counts',fontsize=35)\n",
    "plt.xlabel('Residual',fontsize=25)\n",
    "plt.ylabel('Count',fontsize=25)\n",
    "\n",
    "ax2 = plt.subplot(212)\n",
    "plt.scatter(predicted, residual, color ='teal')\n",
    "plt.tick_params(axis='both', which='major', labelsize=20)\n",
    "plt.xlabel('Predicted',fontsize=25)\n",
    "plt.ylabel('Residual',fontsize=25)\n",
    "plt.axhline(y=0)\n",
    "plt.title('Residual vs. Predicted',fontsize=35)\n",
    "\n",
    "plt.show()\n",
    "\n",
    "from sklearn.metrics import mean_squared_error\n",
    "rmse = np.sqrt(mean_squared_error(Y_test, predicted))\n",
    "scores = cross_val_score(regr, X, y, cv=12)\n",
    "\n",
    "print('RMSE: ',rmse)\n",
    "print('\\nMean Score:')\n",
    "print(scores.mean())\n",
    "print('Variance score: %.2f' % r2_score(Y_test, predicted))"
   ]
  },
  {
   "cell_type": "code",
   "execution_count": null,
   "id": "cc561235",
   "metadata": {},
   "outputs": [],
   "source": [
    "import pandas as pd\n",
    "from sklearn.tree import DecisionTreeRegressor\n",
    "from sklearn.model_selection import train_test_split\n",
    "from sklearn.metrics import mean_absolute_error\n",
    "from sklearn.metrics import r2_score\n",
    "\n",
    "model = DecisionTreeRegressor(max_depth=5)\n",
    "model.fit(X_train, Y_train)\n",
    "\n",
    "y_pred = model.predict(X_test)\n",
    "mae = mean_absolute_error(Y_test, y_pred)\n",
    "print(\"Erreur moyenne absolue :\", mae)\n",
    "print('Variance score: %.2f' % r2_score(Y_test, predicted))"
   ]
  },
  {
   "cell_type": "markdown",
   "id": "1cfedf86",
   "metadata": {},
   "source": [
    "## Features selection"
   ]
  },
  {
   "cell_type": "code",
   "execution_count": null,
   "id": "f38f834e",
   "metadata": {},
   "outputs": [],
   "source": [
    "data_frame= data_frame[['Price','Puissance fiscale', 'Start & Stop','Allumage auto. des feux', 'Détecteur de pluie', 'Ecran tactile', 'Démarrage mains libres','Caméra de recul','Volant cuir']]"
   ]
  },
  {
   "cell_type": "code",
   "execution_count": null,
   "id": "88337ac2",
   "metadata": {},
   "outputs": [],
   "source": [
    "data_frame= pd.get_dummies(data_frame)"
   ]
  },
  {
   "cell_type": "code",
   "execution_count": null,
   "id": "ee332411",
   "metadata": {},
   "outputs": [],
   "source": [
    "y = data_frame['Price']\n",
    "X = data_frame.drop(['Price'], axis=1)"
   ]
  },
  {
   "cell_type": "code",
   "execution_count": null,
   "id": "64dcf382",
   "metadata": {},
   "outputs": [],
   "source": [
    "from sklearn.model_selection import train_test_split"
   ]
  },
  {
   "cell_type": "code",
   "execution_count": null,
   "id": "0a82a3b3",
   "metadata": {},
   "outputs": [],
   "source": [
    "X_train , X_test , Y_train , Y_test = train_test_split(X , y , test_size = 0.40,random_state =2)"
   ]
  },
  {
   "cell_type": "code",
   "execution_count": null,
   "id": "f20b6cd2",
   "metadata": {},
   "outputs": [],
   "source": [
    "from sklearn import linear_model\n",
    "from sklearn.metrics import r2_score\n",
    "import numpy as np\n",
    "from sklearn.model_selection import cross_val_score\n",
    "\n",
    "regr = linear_model.LinearRegression()\n",
    "regr.fit(X_train, Y_train)\n",
    "\n",
    "predicted = regr.predict(X_test)\n",
    "residual = Y_test - predicted\n",
    "\n",
    "fig = plt.figure(figsize=(30,30))\n",
    "ax1 = plt.subplot(211)\n",
    "sns.distplot(residual, color ='teal')\n",
    "plt.tick_params(axis='both', which='major', labelsize=20)\n",
    "plt.title('Residual counts',fontsize=35)\n",
    "plt.xlabel('Residual',fontsize=25)\n",
    "plt.ylabel('Count',fontsize=25)\n",
    "\n",
    "ax2 = plt.subplot(212)\n",
    "plt.scatter(predicted, residual, color ='teal')\n",
    "plt.tick_params(axis='both', which='major', labelsize=20)\n",
    "plt.xlabel('Predicted',fontsize=25)\n",
    "plt.ylabel('Residual',fontsize=25)\n",
    "plt.axhline(y=0)\n",
    "plt.title('Residual vs. Predicted',fontsize=35)\n",
    "\n",
    "plt.show()\n",
    "\n",
    "from sklearn.metrics import mean_squared_error\n",
    "rmse = np.sqrt(mean_squared_error(Y_test, predicted))\n",
    "scores = cross_val_score(regr, X, y, cv=12)\n",
    "\n",
    "print('RMSE: ',rmse)\n",
    "print('\\nMean Score:')\n",
    "print(scores.mean())\n",
    "print('Variance score: %.2f' % r2_score(Y_test, predicted))"
   ]
  },
  {
   "cell_type": "code",
   "execution_count": null,
   "id": "6b374c95",
   "metadata": {},
   "outputs": [],
   "source": [
    "import pandas as pd\n",
    "from sklearn.tree import DecisionTreeRegressor\n",
    "from sklearn.model_selection import train_test_split\n",
    "from sklearn.metrics import mean_absolute_error\n",
    "from sklearn.metrics import r2_score\n",
    "\n",
    "model = DecisionTreeRegressor(max_depth=5)\n",
    "model.fit(X_train, Y_train)\n",
    "\n",
    "y_pred = model.predict(X_test)\n",
    "mae = mean_absolute_error(Y_test, y_pred)\n",
    "print(\"Erreur moyenne absolue :\", mae)\n",
    "print('Variance score: %.2f' % r2_score(Y_test, predicted))"
   ]
  },
  {
   "cell_type": "code",
   "execution_count": null,
   "id": "bd44bebb",
   "metadata": {},
   "outputs": [],
   "source": []
  }
 ],
 "metadata": {
  "kernelspec": {
   "display_name": "Python 3 (ipykernel)",
   "language": "python",
   "name": "python3"
  },
  "language_info": {
   "codemirror_mode": {
    "name": "ipython",
    "version": 3
   },
   "file_extension": ".py",
   "mimetype": "text/x-python",
   "name": "python",
   "nbconvert_exporter": "python",
   "pygments_lexer": "ipython3",
   "version": "3.10.8"
  }
 },
 "nbformat": 4,
 "nbformat_minor": 5
}
