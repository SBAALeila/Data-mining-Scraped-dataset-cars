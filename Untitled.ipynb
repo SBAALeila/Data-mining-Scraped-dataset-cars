{
 "cells": [
  {
   "cell_type": "code",
   "execution_count": 1,
   "id": "87313a0e",
   "metadata": {},
   "outputs": [],
   "source": [
    "import pandas as pd\n",
    "import matplotlib.pyplot as plt\n",
    "import missingno as msno\n",
    "import seaborn as sns"
   ]
  },
  {
   "cell_type": "code",
   "execution_count": 2,
   "id": "1c244002",
   "metadata": {},
   "outputs": [],
   "source": [
    "df = pd.read_csv('wandaloo_cars.csv')"
   ]
  },
  {
   "cell_type": "code",
   "execution_count": 3,
   "id": "309f6b4a",
   "metadata": {},
   "outputs": [
    {
     "data": {
      "text/plain": [
       "True"
      ]
     },
     "execution_count": 3,
     "metadata": {},
     "output_type": "execute_result"
    }
   ],
   "source": [
    "df.duplicated().any().any()"
   ]
  },
  {
   "cell_type": "code",
   "execution_count": 4,
   "id": "2ae0dbf9",
   "metadata": {},
   "outputs": [],
   "source": [
    "df=df.drop_duplicates()"
   ]
  },
  {
   "cell_type": "code",
   "execution_count": 5,
   "id": "79bba50f",
   "metadata": {},
   "outputs": [
    {
     "data": {
      "text/plain": [
       "False"
      ]
     },
     "execution_count": 5,
     "metadata": {},
     "output_type": "execute_result"
    }
   ],
   "source": [
    "df.duplicated().any().any()"
   ]
  },
  {
   "cell_type": "code",
   "execution_count": 6,
   "id": "69bda7ae",
   "metadata": {},
   "outputs": [
    {
     "data": {
      "text/plain": [
       "Index(['Brand', 'Model', 'Version', 'Price', 'Modèle', 'Main', 'Kilométrage',\n",
       "       'Carburant', 'Transmision', 'Puissance fiscale', 'Couleur extérieure',\n",
       "       'Etat du véhicule', 'Climatisation', 'Vitres électriques',\n",
       "       'Sièges électriques', 'Ordinateur de bord', 'Start & Stop',\n",
       "       'Régulateur de vitesse', 'Allumage auto. des feux',\n",
       "       'Détecteur de pluie', 'Commandes au volant', 'Ecran tactile',\n",
       "       'Rétroviseurs électriques', 'Ouverture auto. du coffre',\n",
       "       'Démarrage mains libres', 'Banquette arrière rabattable 1/3-2/3',\n",
       "       'Caméra de recul', 'Bluetooth', 'Jantes aluminium', 'Volant cuir',\n",
       "       'Feux de jour', 'Barres de toit', 'Toit', 'Airbags', 'ABS', 'ESP',\n",
       "       'Antipatinage', 'Architecture', 'Cylindrée', 'Conso. ville',\n",
       "       'Conso. route', 'Vitesse maxi.', 'Volume du réservoir'],\n",
       "      dtype='object')"
      ]
     },
     "execution_count": 6,
     "metadata": {},
     "output_type": "execute_result"
    }
   ],
   "source": [
    "df.columns"
   ]
  },
  {
   "cell_type": "code",
   "execution_count": 7,
   "id": "92fd61e3",
   "metadata": {},
   "outputs": [],
   "source": [
    "cols_to_drop = ['Architecture', 'Cylindrée', 'Conso. ville', 'Conso. route', 'Vitesse maxi.', 'Volume du réservoir', 'Modèle' ]\n",
    "df = df.drop(cols_to_drop, axis=1)"
   ]
  },
  {
   "cell_type": "code",
   "execution_count": 8,
   "id": "307105b4",
   "metadata": {},
   "outputs": [],
   "source": [
    "df = df.drop([48])"
   ]
  },
  {
   "cell_type": "code",
   "execution_count": 9,
   "id": "904e74c6",
   "metadata": {},
   "outputs": [],
   "source": [
    "df = df.drop([2509,\n",
    " 2943,\n",
    " 2944,\n",
    " 2945,\n",
    " 2947,\n",
    " 2948,\n",
    " 2986,\n",
    " 3023,\n",
    " 3040,\n",
    " 3041,\n",
    " 3042,\n",
    " 3043,\n",
    " 3044,\n",
    " 3045,\n",
    " 3114])"
   ]
  },
  {
   "cell_type": "code",
   "execution_count": 10,
   "id": "b6747f3f",
   "metadata": {},
   "outputs": [
    {
     "name": "stderr",
     "output_type": "stream",
     "text": [
      "C:\\Users\\ACER\\AppData\\Local\\Temp\\ipykernel_5200\\662689976.py:3: FutureWarning: The default value of regex will change from True to False in a future version. In addition, single character regular expressions will *not* be treated as literal strings when regex=True.\n",
      "  df[\"Price\"] = df[\"Price\"].str.replace(\".\", \"\")\n"
     ]
    },
    {
     "data": {
      "text/plain": [
       "dtype('float64')"
      ]
     },
     "execution_count": 10,
     "metadata": {},
     "output_type": "execute_result"
    }
   ],
   "source": [
    "df['Price'] = df['Price'].str.strip(\"DH\")\n",
    "df[\"Price\"] = df[\"Price\"].replace(\"[^0-9\\.]\", \"\", regex=True)\n",
    "df[\"Price\"] = df[\"Price\"].str.replace(\".\", \"\")\n",
    "df[\"Price\"] = df[\"Price\"].astype(float)\n",
    "df['Price'].dtypes"
   ]
  },
  {
   "cell_type": "code",
   "execution_count": 11,
   "id": "c08e383e",
   "metadata": {},
   "outputs": [],
   "source": [
    "df[\"Bluetooth\"] = df[\"Bluetooth\"].map({\"oui\": 1, \"non\": 0})"
   ]
  },
  {
   "cell_type": "code",
   "execution_count": 12,
   "id": "ae0b9218",
   "metadata": {},
   "outputs": [
    {
     "data": {
      "text/plain": [
       "oui          1426\n",
       "non           836\n",
       "18 pouces     193\n",
       "17 pouces     186\n",
       "19 pouces     147\n",
       "16 pouces     107\n",
       "20 pouces      73\n",
       "21 pouces      24\n",
       "15 pouces      21\n",
       "14 pouces       7\n",
       "22 pouces       5\n",
       "Name: Jantes aluminium, dtype: int64"
      ]
     },
     "execution_count": 12,
     "metadata": {},
     "output_type": "execute_result"
    }
   ],
   "source": [
    "df['Jantes aluminium'].value_counts()"
   ]
  },
  {
   "cell_type": "code",
   "execution_count": 13,
   "id": "9a3efa06",
   "metadata": {},
   "outputs": [
    {
     "data": {
      "text/plain": [
       "oui    2173\n",
       "non     852\n",
       "Name: Ordinateur de bord, dtype: int64"
      ]
     },
     "execution_count": 13,
     "metadata": {},
     "output_type": "execute_result"
    }
   ],
   "source": [
    "df['Ordinateur de bord'].value_counts()"
   ]
  },
  {
   "cell_type": "code",
   "execution_count": 14,
   "id": "f01ff035",
   "metadata": {},
   "outputs": [
    {
     "data": {
      "text/plain": [
       "auto. Bi-zone        929\n",
       "manuelle             926\n",
       "auto.                510\n",
       "non                  406\n",
       "auto. Tri-zone       141\n",
       "auto. Multi-zone      59\n",
       "auto. Quadri-zone     53\n",
       "تلقاءي.                1\n",
       "Name: Climatisation, dtype: int64"
      ]
     },
     "execution_count": 14,
     "metadata": {},
     "output_type": "execute_result"
    }
   ],
   "source": [
    "df['Climatisation'].value_counts()"
   ]
  },
  {
   "cell_type": "code",
   "execution_count": 15,
   "id": "fd91b0f8",
   "metadata": {},
   "outputs": [
    {
     "data": {
      "text/plain": [
       "Electrique AV/AR    1918\n",
       "Electrique AV        655\n",
       "-                    441\n",
       "non                    8\n",
       "Electrique AR          3\n",
       "Name: Vitres électriques, dtype: int64"
      ]
     },
     "execution_count": 15,
     "metadata": {},
     "output_type": "execute_result"
    }
   ],
   "source": [
    "df['Vitres électriques'].value_counts()"
   ]
  },
  {
   "cell_type": "code",
   "execution_count": 16,
   "id": "e7104f1b",
   "metadata": {},
   "outputs": [
    {
     "data": {
      "text/plain": [
       "oui    2167\n",
       "non     858\n",
       "Name: Régulateur de vitesse, dtype: int64"
      ]
     },
     "execution_count": 16,
     "metadata": {},
     "output_type": "execute_result"
    }
   ],
   "source": [
    "df['Régulateur de vitesse'].value_counts()"
   ]
  },
  {
   "cell_type": "code",
   "execution_count": 17,
   "id": "db903b71",
   "metadata": {},
   "outputs": [
    {
     "data": {
      "text/plain": [
       "non                       1993\n",
       "Conducteur et Passager     584\n",
       "Conducteur                 340\n",
       "Tous les passagers          76\n",
       "Passager                    12\n",
       "Name: Sièges électriques, dtype: int64"
      ]
     },
     "execution_count": 17,
     "metadata": {},
     "output_type": "execute_result"
    }
   ],
   "source": [
    "df['Sièges électriques'].value_counts()"
   ]
  },
  {
   "cell_type": "code",
   "execution_count": 18,
   "id": "7bca5e37",
   "metadata": {},
   "outputs": [
    {
     "data": {
      "text/plain": [
       "non    1769\n",
       "oui    1256\n",
       "Name: Start & Stop, dtype: int64"
      ]
     },
     "execution_count": 18,
     "metadata": {},
     "output_type": "execute_result"
    }
   ],
   "source": [
    "df['Start & Stop'].value_counts()"
   ]
  },
  {
   "cell_type": "code",
   "execution_count": 19,
   "id": "b2c382a2",
   "metadata": {},
   "outputs": [
    {
     "data": {
      "text/plain": [
       "oui    1724\n",
       "non    1301\n",
       "Name: Allumage auto. des feux, dtype: int64"
      ]
     },
     "execution_count": 19,
     "metadata": {},
     "output_type": "execute_result"
    }
   ],
   "source": [
    "df['Allumage auto. des feux'].value_counts()"
   ]
  },
  {
   "cell_type": "code",
   "execution_count": 20,
   "id": "412490ab",
   "metadata": {},
   "outputs": [
    {
     "data": {
      "text/plain": [
       "oui    1573\n",
       "non    1452\n",
       "Name: Détecteur de pluie, dtype: int64"
      ]
     },
     "execution_count": 20,
     "metadata": {},
     "output_type": "execute_result"
    }
   ],
   "source": [
    "df['Détecteur de pluie'].value_counts()"
   ]
  },
  {
   "cell_type": "code",
   "execution_count": 21,
   "id": "cb56a571",
   "metadata": {},
   "outputs": [
    {
     "data": {
      "text/plain": [
       "oui    2113\n",
       "non     912\n",
       "Name: Commandes au volant, dtype: int64"
      ]
     },
     "execution_count": 21,
     "metadata": {},
     "output_type": "execute_result"
    }
   ],
   "source": [
    "df['Commandes au volant'].value_counts()"
   ]
  },
  {
   "cell_type": "code",
   "execution_count": 22,
   "id": "d5217cc8",
   "metadata": {},
   "outputs": [
    {
     "data": {
      "text/plain": [
       "oui    1643\n",
       "non    1382\n",
       "Name: Ecran tactile, dtype: int64"
      ]
     },
     "execution_count": 22,
     "metadata": {},
     "output_type": "execute_result"
    }
   ],
   "source": [
    "df['Ecran tactile'].value_counts()"
   ]
  },
  {
   "cell_type": "code",
   "execution_count": 23,
   "id": "e8b5c72f",
   "metadata": {},
   "outputs": [
    {
     "data": {
      "text/plain": [
       "oui    2120\n",
       "non     905\n",
       "Name: Rétroviseurs électriques, dtype: int64"
      ]
     },
     "execution_count": 23,
     "metadata": {},
     "output_type": "execute_result"
    }
   ],
   "source": [
    "df['Rétroviseurs électriques'].value_counts()"
   ]
  },
  {
   "cell_type": "code",
   "execution_count": 24,
   "id": "a22cf8fb",
   "metadata": {},
   "outputs": [
    {
     "data": {
      "text/plain": [
       "non    1770\n",
       "oui     406\n",
       "Name: Ouverture auto. du coffre, dtype: int64"
      ]
     },
     "execution_count": 24,
     "metadata": {},
     "output_type": "execute_result"
    }
   ],
   "source": [
    "df['Ouverture auto. du coffre'].value_counts()"
   ]
  },
  {
   "cell_type": "code",
   "execution_count": 25,
   "id": "7867e0fb",
   "metadata": {},
   "outputs": [
    {
     "data": {
      "text/plain": [
       "non    1659\n",
       "oui    1366\n",
       "Name: Démarrage mains libres, dtype: int64"
      ]
     },
     "execution_count": 25,
     "metadata": {},
     "output_type": "execute_result"
    }
   ],
   "source": [
    "df['Démarrage mains libres'].value_counts()"
   ]
  },
  {
   "cell_type": "code",
   "execution_count": 26,
   "id": "26df5054",
   "metadata": {},
   "outputs": [
    {
     "data": {
      "text/plain": [
       "oui    1637\n",
       "non    1388\n",
       "Name: Banquette arrière rabattable 1/3-2/3, dtype: int64"
      ]
     },
     "execution_count": 26,
     "metadata": {},
     "output_type": "execute_result"
    }
   ],
   "source": [
    "df['Banquette arrière rabattable 1/3-2/3'].value_counts()"
   ]
  },
  {
   "cell_type": "code",
   "execution_count": 27,
   "id": "779a63a1",
   "metadata": {},
   "outputs": [
    {
     "data": {
      "text/plain": [
       "non    1700\n",
       "oui    1325\n",
       "Name: Caméra de recul, dtype: int64"
      ]
     },
     "execution_count": 27,
     "metadata": {},
     "output_type": "execute_result"
    }
   ],
   "source": [
    "df['Caméra de recul'].value_counts()"
   ]
  },
  {
   "cell_type": "code",
   "execution_count": 28,
   "id": "c2cef2c7",
   "metadata": {},
   "outputs": [
    {
     "data": {
      "text/plain": [
       "1    2097\n",
       "0     928\n",
       "Name: Bluetooth, dtype: int64"
      ]
     },
     "execution_count": 28,
     "metadata": {},
     "output_type": "execute_result"
    }
   ],
   "source": [
    "df['Bluetooth'].value_counts()"
   ]
  },
  {
   "cell_type": "code",
   "execution_count": 29,
   "id": "cb79d072",
   "metadata": {},
   "outputs": [
    {
     "data": {
      "text/plain": [
       "oui          1426\n",
       "non           836\n",
       "18 pouces     193\n",
       "17 pouces     186\n",
       "19 pouces     147\n",
       "16 pouces     107\n",
       "20 pouces      73\n",
       "21 pouces      24\n",
       "15 pouces      21\n",
       "14 pouces       7\n",
       "22 pouces       5\n",
       "Name: Jantes aluminium, dtype: int64"
      ]
     },
     "execution_count": 29,
     "metadata": {},
     "output_type": "execute_result"
    }
   ],
   "source": [
    "df['Jantes aluminium'].value_counts()"
   ]
  },
  {
   "cell_type": "code",
   "execution_count": 30,
   "id": "db9e71b3",
   "metadata": {},
   "outputs": [
    {
     "data": {
      "text/plain": [
       "non    1825\n",
       "oui    1200\n",
       "Name: Volant cuir, dtype: int64"
      ]
     },
     "execution_count": 30,
     "metadata": {},
     "output_type": "execute_result"
    }
   ],
   "source": [
    "df['Volant cuir'].value_counts()"
   ]
  },
  {
   "cell_type": "code",
   "execution_count": 31,
   "id": "9733483c",
   "metadata": {},
   "outputs": [
    {
     "data": {
      "text/plain": [
       "oui    1850\n",
       "non    1175\n",
       "Name: Feux de jour, dtype: int64"
      ]
     },
     "execution_count": 31,
     "metadata": {},
     "output_type": "execute_result"
    }
   ],
   "source": [
    "df['Feux de jour'].value_counts()"
   ]
  },
  {
   "cell_type": "code",
   "execution_count": 32,
   "id": "2f46ffcd",
   "metadata": {},
   "outputs": [
    {
     "data": {
      "text/plain": [
       "non    2307\n",
       "oui     718\n",
       "Name: Barres de toit, dtype: int64"
      ]
     },
     "execution_count": 32,
     "metadata": {},
     "output_type": "execute_result"
    }
   ],
   "source": [
    "df['Barres de toit'].value_counts()"
   ]
  },
  {
   "cell_type": "code",
   "execution_count": 33,
   "id": "e662c0f6",
   "metadata": {},
   "outputs": [
    {
     "data": {
      "text/plain": [
       "Rigide                 2381\n",
       "Panoramique ouvrant     354\n",
       "Panoramique             197\n",
       "Ouvrant                  93\n",
       "Name: Toit, dtype: int64"
      ]
     },
     "execution_count": 33,
     "metadata": {},
     "output_type": "execute_result"
    }
   ],
   "source": [
    "df['Toit'].value_counts()"
   ]
  },
  {
   "cell_type": "code",
   "execution_count": 34,
   "id": "6c245680",
   "metadata": {},
   "outputs": [
    {
     "data": {
      "text/plain": [
       "oui     1919\n",
       "6.0      286\n",
       "non      257\n",
       "8.0      181\n",
       "7.0      159\n",
       "2.0      116\n",
       "4.0       51\n",
       "9.0       24\n",
       "10.0      23\n",
       "0.0        7\n",
       "1.0        2\n",
       "Name: Airbags, dtype: int64"
      ]
     },
     "execution_count": 34,
     "metadata": {},
     "output_type": "execute_result"
    }
   ],
   "source": [
    "df['Airbags'].value_counts()"
   ]
  },
  {
   "cell_type": "code",
   "execution_count": 35,
   "id": "28b0aa94",
   "metadata": {},
   "outputs": [
    {
     "data": {
      "text/plain": [
       "oui    2683\n",
       "non     342\n",
       "Name: ABS, dtype: int64"
      ]
     },
     "execution_count": 35,
     "metadata": {},
     "output_type": "execute_result"
    }
   ],
   "source": [
    "df['ABS'].value_counts()"
   ]
  },
  {
   "cell_type": "code",
   "execution_count": 36,
   "id": "e0da7008",
   "metadata": {},
   "outputs": [
    {
     "data": {
      "text/plain": [
       "oui    2214\n",
       "non     811\n",
       "Name: ESP, dtype: int64"
      ]
     },
     "execution_count": 36,
     "metadata": {},
     "output_type": "execute_result"
    }
   ],
   "source": [
    "df['ESP'].value_counts()"
   ]
  },
  {
   "cell_type": "code",
   "execution_count": 37,
   "id": "9a9d07d2",
   "metadata": {},
   "outputs": [
    {
     "data": {
      "text/plain": [
       "oui    2073\n",
       "non     952\n",
       "Name: Antipatinage, dtype: int64"
      ]
     },
     "execution_count": 37,
     "metadata": {},
     "output_type": "execute_result"
    }
   ],
   "source": [
    "df['Antipatinage'].value_counts()"
   ]
  },
  {
   "cell_type": "code",
   "execution_count": 38,
   "id": "e9e804cb",
   "metadata": {},
   "outputs": [
    {
     "data": {
      "text/plain": [
       "Seconde     1125\n",
       "Première    1051\n",
       "Name: Main, dtype: int64"
      ]
     },
     "execution_count": 38,
     "metadata": {},
     "output_type": "execute_result"
    }
   ],
   "source": [
    "df['Main'].value_counts()"
   ]
  },
  {
   "cell_type": "code",
   "execution_count": 39,
   "id": "83402c4d",
   "metadata": {},
   "outputs": [
    {
     "data": {
      "text/plain": [
       "Autre version                  372\n",
       "1.7 CDTi Cosmo                  32\n",
       "1.5 dCi Authentique             27\n",
       "220 CDI                         24\n",
       "1.6 HDi Active                  16\n",
       "                              ... \n",
       "1.6 dCi L2H1                     1\n",
       "1.5 dCi Exception                1\n",
       "1.5 dCi Privilege                1\n",
       "1.5 dCi Storm                    1\n",
       "2.0 D4 190 Momentum Confort      1\n",
       "Name: Version, Length: 733, dtype: int64"
      ]
     },
     "execution_count": 39,
     "metadata": {},
     "output_type": "execute_result"
    }
   ],
   "source": [
    "df['Version'].value_counts()"
   ]
  },
  {
   "cell_type": "code",
   "execution_count": 40,
   "id": "c57244b8",
   "metadata": {},
   "outputs": [
    {
     "data": {
      "text/html": [
       "<div>\n",
       "<style scoped>\n",
       "    .dataframe tbody tr th:only-of-type {\n",
       "        vertical-align: middle;\n",
       "    }\n",
       "\n",
       "    .dataframe tbody tr th {\n",
       "        vertical-align: top;\n",
       "    }\n",
       "\n",
       "    .dataframe thead th {\n",
       "        text-align: right;\n",
       "    }\n",
       "</style>\n",
       "<table border=\"1\" class=\"dataframe\">\n",
       "  <thead>\n",
       "    <tr style=\"text-align: right;\">\n",
       "      <th></th>\n",
       "      <th>Brand</th>\n",
       "      <th>Model</th>\n",
       "      <th>Version</th>\n",
       "      <th>Price</th>\n",
       "      <th>Main</th>\n",
       "      <th>Kilométrage</th>\n",
       "      <th>Carburant</th>\n",
       "      <th>Transmision</th>\n",
       "      <th>Puissance fiscale</th>\n",
       "      <th>Couleur extérieure</th>\n",
       "      <th>...</th>\n",
       "      <th>Bluetooth</th>\n",
       "      <th>Jantes aluminium</th>\n",
       "      <th>Volant cuir</th>\n",
       "      <th>Feux de jour</th>\n",
       "      <th>Barres de toit</th>\n",
       "      <th>Toit</th>\n",
       "      <th>Airbags</th>\n",
       "      <th>ABS</th>\n",
       "      <th>ESP</th>\n",
       "      <th>Antipatinage</th>\n",
       "    </tr>\n",
       "  </thead>\n",
       "  <tbody>\n",
       "    <tr>\n",
       "      <th>0</th>\n",
       "      <td>MERCEDES</td>\n",
       "      <td>Classe C 2014</td>\n",
       "      <td>220 d</td>\n",
       "      <td>228000.0</td>\n",
       "      <td>Seconde</td>\n",
       "      <td>144.500 km</td>\n",
       "      <td>Diesel</td>\n",
       "      <td>Automatique</td>\n",
       "      <td>8 cv</td>\n",
       "      <td>Gris foncé</td>\n",
       "      <td>...</td>\n",
       "      <td>1</td>\n",
       "      <td>oui</td>\n",
       "      <td>oui</td>\n",
       "      <td>oui</td>\n",
       "      <td>non</td>\n",
       "      <td>Rigide</td>\n",
       "      <td>oui</td>\n",
       "      <td>oui</td>\n",
       "      <td>oui</td>\n",
       "      <td>oui</td>\n",
       "    </tr>\n",
       "    <tr>\n",
       "      <th>1</th>\n",
       "      <td>MERCEDES</td>\n",
       "      <td>Classe C 2003</td>\n",
       "      <td>220 CDI</td>\n",
       "      <td>79000.0</td>\n",
       "      <td>Seconde</td>\n",
       "      <td>350.000 km</td>\n",
       "      <td>Diesel</td>\n",
       "      <td>Manuelle</td>\n",
       "      <td>8 cv</td>\n",
       "      <td>Noir</td>\n",
       "      <td>...</td>\n",
       "      <td>1</td>\n",
       "      <td>oui</td>\n",
       "      <td>non</td>\n",
       "      <td>oui</td>\n",
       "      <td>non</td>\n",
       "      <td>Rigide</td>\n",
       "      <td>oui</td>\n",
       "      <td>oui</td>\n",
       "      <td>oui</td>\n",
       "      <td>oui</td>\n",
       "    </tr>\n",
       "    <tr>\n",
       "      <th>2</th>\n",
       "      <td>MERCEDES</td>\n",
       "      <td>Classe B 2013</td>\n",
       "      <td>180 d Urban</td>\n",
       "      <td>150000.0</td>\n",
       "      <td>Seconde</td>\n",
       "      <td>144.000 km</td>\n",
       "      <td>Diesel</td>\n",
       "      <td>Manuelle</td>\n",
       "      <td>8 cv</td>\n",
       "      <td>Noir</td>\n",
       "      <td>...</td>\n",
       "      <td>1</td>\n",
       "      <td>oui</td>\n",
       "      <td>oui</td>\n",
       "      <td>oui</td>\n",
       "      <td>non</td>\n",
       "      <td>Rigide</td>\n",
       "      <td>oui</td>\n",
       "      <td>oui</td>\n",
       "      <td>oui</td>\n",
       "      <td>oui</td>\n",
       "    </tr>\n",
       "    <tr>\n",
       "      <th>3</th>\n",
       "      <td>MERCEDES</td>\n",
       "      <td>Classe E 2006</td>\n",
       "      <td>Autre version</td>\n",
       "      <td>135000.0</td>\n",
       "      <td>Seconde</td>\n",
       "      <td>248.000 km</td>\n",
       "      <td>Diesel</td>\n",
       "      <td>Automatique</td>\n",
       "      <td>9 cv</td>\n",
       "      <td>Gris clair</td>\n",
       "      <td>...</td>\n",
       "      <td>1</td>\n",
       "      <td>oui</td>\n",
       "      <td>non</td>\n",
       "      <td>oui</td>\n",
       "      <td>oui</td>\n",
       "      <td>Rigide</td>\n",
       "      <td>oui</td>\n",
       "      <td>oui</td>\n",
       "      <td>oui</td>\n",
       "      <td>oui</td>\n",
       "    </tr>\n",
       "    <tr>\n",
       "      <th>4</th>\n",
       "      <td>MERCEDES</td>\n",
       "      <td>CLA Coupé 2014</td>\n",
       "      <td>220 CDI</td>\n",
       "      <td>240000.0</td>\n",
       "      <td>Seconde</td>\n",
       "      <td>103.000 km</td>\n",
       "      <td>Diesel</td>\n",
       "      <td>Automatique</td>\n",
       "      <td>9 cv</td>\n",
       "      <td>Blanc cassé</td>\n",
       "      <td>...</td>\n",
       "      <td>1</td>\n",
       "      <td>oui</td>\n",
       "      <td>non</td>\n",
       "      <td>oui</td>\n",
       "      <td>non</td>\n",
       "      <td>Panoramique</td>\n",
       "      <td>oui</td>\n",
       "      <td>oui</td>\n",
       "      <td>oui</td>\n",
       "      <td>oui</td>\n",
       "    </tr>\n",
       "    <tr>\n",
       "      <th>...</th>\n",
       "      <td>...</td>\n",
       "      <td>...</td>\n",
       "      <td>...</td>\n",
       "      <td>...</td>\n",
       "      <td>...</td>\n",
       "      <td>...</td>\n",
       "      <td>...</td>\n",
       "      <td>...</td>\n",
       "      <td>...</td>\n",
       "      <td>...</td>\n",
       "      <td>...</td>\n",
       "      <td>...</td>\n",
       "      <td>...</td>\n",
       "      <td>...</td>\n",
       "      <td>...</td>\n",
       "      <td>...</td>\n",
       "      <td>...</td>\n",
       "      <td>...</td>\n",
       "      <td>...</td>\n",
       "      <td>...</td>\n",
       "      <td>...</td>\n",
       "    </tr>\n",
       "    <tr>\n",
       "      <th>3124</th>\n",
       "      <td>VOLVO</td>\n",
       "      <td>XC90</td>\n",
       "      <td>NaN</td>\n",
       "      <td>630000.0</td>\n",
       "      <td>NaN</td>\n",
       "      <td>NaN</td>\n",
       "      <td>NaN</td>\n",
       "      <td>NaN</td>\n",
       "      <td>8 cv</td>\n",
       "      <td>NaN</td>\n",
       "      <td>...</td>\n",
       "      <td>1</td>\n",
       "      <td>19 pouces</td>\n",
       "      <td>oui</td>\n",
       "      <td>oui</td>\n",
       "      <td>oui</td>\n",
       "      <td>Rigide</td>\n",
       "      <td>7.0</td>\n",
       "      <td>oui</td>\n",
       "      <td>oui</td>\n",
       "      <td>oui</td>\n",
       "    </tr>\n",
       "    <tr>\n",
       "      <th>3125</th>\n",
       "      <td>VOLVO</td>\n",
       "      <td>XC90</td>\n",
       "      <td>NaN</td>\n",
       "      <td>730000.0</td>\n",
       "      <td>NaN</td>\n",
       "      <td>NaN</td>\n",
       "      <td>NaN</td>\n",
       "      <td>NaN</td>\n",
       "      <td>8 cv</td>\n",
       "      <td>NaN</td>\n",
       "      <td>...</td>\n",
       "      <td>1</td>\n",
       "      <td>20 pouces</td>\n",
       "      <td>oui</td>\n",
       "      <td>oui</td>\n",
       "      <td>oui</td>\n",
       "      <td>Panoramique ouvrant</td>\n",
       "      <td>7.0</td>\n",
       "      <td>oui</td>\n",
       "      <td>oui</td>\n",
       "      <td>oui</td>\n",
       "    </tr>\n",
       "    <tr>\n",
       "      <th>3126</th>\n",
       "      <td>VOLVO</td>\n",
       "      <td>XC90</td>\n",
       "      <td>NaN</td>\n",
       "      <td>850000.0</td>\n",
       "      <td>NaN</td>\n",
       "      <td>NaN</td>\n",
       "      <td>NaN</td>\n",
       "      <td>NaN</td>\n",
       "      <td>8 cv</td>\n",
       "      <td>NaN</td>\n",
       "      <td>...</td>\n",
       "      <td>1</td>\n",
       "      <td>20 pouces</td>\n",
       "      <td>oui</td>\n",
       "      <td>oui</td>\n",
       "      <td>oui</td>\n",
       "      <td>Panoramique ouvrant</td>\n",
       "      <td>7.0</td>\n",
       "      <td>oui</td>\n",
       "      <td>oui</td>\n",
       "      <td>oui</td>\n",
       "    </tr>\n",
       "    <tr>\n",
       "      <th>3127</th>\n",
       "      <td>VOLVO</td>\n",
       "      <td>XC90</td>\n",
       "      <td>NaN</td>\n",
       "      <td>1000000.0</td>\n",
       "      <td>NaN</td>\n",
       "      <td>NaN</td>\n",
       "      <td>NaN</td>\n",
       "      <td>NaN</td>\n",
       "      <td>11 cv</td>\n",
       "      <td>NaN</td>\n",
       "      <td>...</td>\n",
       "      <td>1</td>\n",
       "      <td>20 pouces</td>\n",
       "      <td>oui</td>\n",
       "      <td>oui</td>\n",
       "      <td>oui</td>\n",
       "      <td>Panoramique ouvrant</td>\n",
       "      <td>7.0</td>\n",
       "      <td>oui</td>\n",
       "      <td>oui</td>\n",
       "      <td>oui</td>\n",
       "    </tr>\n",
       "    <tr>\n",
       "      <th>3128</th>\n",
       "      <td>VOLVO</td>\n",
       "      <td>XC90</td>\n",
       "      <td>NaN</td>\n",
       "      <td>1100000.0</td>\n",
       "      <td>NaN</td>\n",
       "      <td>NaN</td>\n",
       "      <td>NaN</td>\n",
       "      <td>NaN</td>\n",
       "      <td>11 cv</td>\n",
       "      <td>NaN</td>\n",
       "      <td>...</td>\n",
       "      <td>1</td>\n",
       "      <td>20 pouces</td>\n",
       "      <td>oui</td>\n",
       "      <td>oui</td>\n",
       "      <td>oui</td>\n",
       "      <td>Panoramique ouvrant</td>\n",
       "      <td>7.0</td>\n",
       "      <td>oui</td>\n",
       "      <td>oui</td>\n",
       "      <td>oui</td>\n",
       "    </tr>\n",
       "  </tbody>\n",
       "</table>\n",
       "<p>3025 rows × 36 columns</p>\n",
       "</div>"
      ],
      "text/plain": [
       "         Brand           Model        Version      Price     Main Kilométrage  \\\n",
       "0     MERCEDES   Classe C 2014          220 d   228000.0  Seconde  144.500 km   \n",
       "1     MERCEDES   Classe C 2003        220 CDI    79000.0  Seconde  350.000 km   \n",
       "2     MERCEDES   Classe B 2013    180 d Urban   150000.0  Seconde  144.000 km   \n",
       "3     MERCEDES   Classe E 2006  Autre version   135000.0  Seconde  248.000 km   \n",
       "4     MERCEDES  CLA Coupé 2014        220 CDI   240000.0  Seconde  103.000 km   \n",
       "...        ...             ...            ...        ...      ...         ...   \n",
       "3124     VOLVO            XC90            NaN   630000.0      NaN         NaN   \n",
       "3125     VOLVO            XC90            NaN   730000.0      NaN         NaN   \n",
       "3126     VOLVO            XC90            NaN   850000.0      NaN         NaN   \n",
       "3127     VOLVO            XC90            NaN  1000000.0      NaN         NaN   \n",
       "3128     VOLVO            XC90            NaN  1100000.0      NaN         NaN   \n",
       "\n",
       "     Carburant  Transmision Puissance fiscale Couleur extérieure  ...  \\\n",
       "0       Diesel  Automatique              8 cv         Gris foncé  ...   \n",
       "1       Diesel     Manuelle              8 cv               Noir  ...   \n",
       "2       Diesel     Manuelle              8 cv               Noir  ...   \n",
       "3       Diesel  Automatique              9 cv         Gris clair  ...   \n",
       "4       Diesel  Automatique              9 cv        Blanc cassé  ...   \n",
       "...        ...          ...               ...                ...  ...   \n",
       "3124       NaN          NaN              8 cv                NaN  ...   \n",
       "3125       NaN          NaN              8 cv                NaN  ...   \n",
       "3126       NaN          NaN              8 cv                NaN  ...   \n",
       "3127       NaN          NaN             11 cv                NaN  ...   \n",
       "3128       NaN          NaN             11 cv                NaN  ...   \n",
       "\n",
       "     Bluetooth Jantes aluminium Volant cuir Feux de jour Barres de toit  \\\n",
       "0            1              oui         oui          oui            non   \n",
       "1            1              oui         non          oui            non   \n",
       "2            1              oui         oui          oui            non   \n",
       "3            1              oui         non          oui            oui   \n",
       "4            1              oui         non          oui            non   \n",
       "...        ...              ...         ...          ...            ...   \n",
       "3124         1        19 pouces         oui          oui            oui   \n",
       "3125         1        20 pouces         oui          oui            oui   \n",
       "3126         1        20 pouces         oui          oui            oui   \n",
       "3127         1        20 pouces         oui          oui            oui   \n",
       "3128         1        20 pouces         oui          oui            oui   \n",
       "\n",
       "                     Toit Airbags  ABS  ESP Antipatinage  \n",
       "0                  Rigide     oui  oui  oui          oui  \n",
       "1                  Rigide     oui  oui  oui          oui  \n",
       "2                  Rigide     oui  oui  oui          oui  \n",
       "3                  Rigide     oui  oui  oui          oui  \n",
       "4             Panoramique     oui  oui  oui          oui  \n",
       "...                   ...     ...  ...  ...          ...  \n",
       "3124               Rigide     7.0  oui  oui          oui  \n",
       "3125  Panoramique ouvrant     7.0  oui  oui          oui  \n",
       "3126  Panoramique ouvrant     7.0  oui  oui          oui  \n",
       "3127  Panoramique ouvrant     7.0  oui  oui          oui  \n",
       "3128  Panoramique ouvrant     7.0  oui  oui          oui  \n",
       "\n",
       "[3025 rows x 36 columns]"
      ]
     },
     "execution_count": 40,
     "metadata": {},
     "output_type": "execute_result"
    }
   ],
   "source": [
    "df"
   ]
  },
  {
   "cell_type": "code",
   "execution_count": null,
   "id": "d0ae7f92",
   "metadata": {},
   "outputs": [],
   "source": []
  }
 ],
 "metadata": {
  "kernelspec": {
   "display_name": "Python 3 (ipykernel)",
   "language": "python",
   "name": "python3"
  },
  "language_info": {
   "codemirror_mode": {
    "name": "ipython",
    "version": 3
   },
   "file_extension": ".py",
   "mimetype": "text/x-python",
   "name": "python",
   "nbconvert_exporter": "python",
   "pygments_lexer": "ipython3",
   "version": "3.10.8"
  }
 },
 "nbformat": 4,
 "nbformat_minor": 5
}
